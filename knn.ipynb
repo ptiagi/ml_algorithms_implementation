{
 "cells": [
  {
   "cell_type": "code",
   "execution_count": 130,
   "id": "9bd943b2-3254-4d25-81ea-54f023d5255a",
   "metadata": {},
   "outputs": [],
   "source": [
    "import numpy as np\n",
    "\n",
    "class KNearestNeighbor():\n",
    "    def __init__(self, k):\n",
    "        self.k = k\n",
    "        \n",
    "    def fit(self, X, y, p):\n",
    "        ## Calculate distance of each point from the new datapoint\n",
    "        p_dist_matrix = {}\n",
    "        index = 0\n",
    "        for x in zip(X, y):\n",
    "            p_dist_matrix[index] = np.abs(np.linalg.norm(np.array(x[0]) - np.array(p)))\n",
    "            index+=1\n",
    "        return p_dist_matrix\n",
    "        \n",
    "    def predict(self, X, y, p):\n",
    "        p_dist_matrix = self.fit(X, y, p)\n",
    "        p_dist_matrix_sorted = dict(sorted(p_dist_matrix.items(), key=lambda item: item[1]))\n",
    "        cluster_count = {}\n",
    "        count = 1\n",
    "        for p_dist in p_dist_matrix_sorted.items():\n",
    "            if count == self.k:\n",
    "                break\n",
    "            if y[p_dist[0]] not in cluster_count.keys():\n",
    "                cluster_count[y[p_dist[0]]] = 1\n",
    "            else:\n",
    "                cluster_count[y[p_dist[0]]] += 1\n",
    "            count += 1\n",
    "        return max(zip(cluster_count.values(), cluster_count.keys()))[1]"
   ]
  },
  {
   "cell_type": "code",
   "execution_count": 136,
   "id": "0b272900-4872-470e-be5a-8e4f28ea2fd7",
   "metadata": {},
   "outputs": [
    {
     "data": {
      "text/plain": [
       "0"
      ]
     },
     "execution_count": 136,
     "metadata": {},
     "output_type": "execute_result"
    }
   ],
   "source": [
    "X = [[1,12],[2,5],[3,6],[3,10],[3.5,8],[2,11],[2,9],[1,7],\n",
    "          [5,3],[3,2],[1.5,9],[7,2],[6,1],[3.8,1],[5.6,4],[4,2],[2,5]]\n",
    "\n",
    "y = [0,0,0,0,0,0,0,0,1,1,0,1,1,1,1,1,0] \n",
    "\n",
    "# testing point p(x,y)\n",
    "p = [4,7]\n",
    "\n",
    "# Number of neighbours\n",
    "k = 2\n",
    "\n",
    "knn = KNearestNeighbor(k)\n",
    "knn.fit(X, y, p)\n",
    "knn.predict(X, y, p)"
   ]
  },
  {
   "cell_type": "code",
   "execution_count": 137,
   "id": "9ced5788-92da-4d8b-8554-662f8187621e",
   "metadata": {},
   "outputs": [],
   "source": [
    "X_df = pd.DataFrame(X, columns=['feature1', 'feature2'])"
   ]
  },
  {
   "cell_type": "code",
   "execution_count": 138,
   "id": "dbac7d08-a9db-48b5-98a1-095e5ea32a30",
   "metadata": {},
   "outputs": [],
   "source": [
    "X_df['y'] = y"
   ]
  },
  {
   "cell_type": "code",
   "execution_count": 139,
   "id": "e48a5243-c5ec-41d5-b9f0-b5b66a14701f",
   "metadata": {},
   "outputs": [
    {
     "data": {
      "text/html": [
       "<div>\n",
       "<style scoped>\n",
       "    .dataframe tbody tr th:only-of-type {\n",
       "        vertical-align: middle;\n",
       "    }\n",
       "\n",
       "    .dataframe tbody tr th {\n",
       "        vertical-align: top;\n",
       "    }\n",
       "\n",
       "    .dataframe thead th {\n",
       "        text-align: right;\n",
       "    }\n",
       "</style>\n",
       "<table border=\"1\" class=\"dataframe\">\n",
       "  <thead>\n",
       "    <tr style=\"text-align: right;\">\n",
       "      <th></th>\n",
       "      <th>feature1</th>\n",
       "      <th>feature2</th>\n",
       "      <th>y</th>\n",
       "    </tr>\n",
       "  </thead>\n",
       "  <tbody>\n",
       "    <tr>\n",
       "      <th>0</th>\n",
       "      <td>1.0</td>\n",
       "      <td>12</td>\n",
       "      <td>0</td>\n",
       "    </tr>\n",
       "    <tr>\n",
       "      <th>1</th>\n",
       "      <td>2.0</td>\n",
       "      <td>5</td>\n",
       "      <td>0</td>\n",
       "    </tr>\n",
       "    <tr>\n",
       "      <th>2</th>\n",
       "      <td>3.0</td>\n",
       "      <td>6</td>\n",
       "      <td>0</td>\n",
       "    </tr>\n",
       "    <tr>\n",
       "      <th>3</th>\n",
       "      <td>3.0</td>\n",
       "      <td>10</td>\n",
       "      <td>0</td>\n",
       "    </tr>\n",
       "    <tr>\n",
       "      <th>4</th>\n",
       "      <td>3.5</td>\n",
       "      <td>8</td>\n",
       "      <td>0</td>\n",
       "    </tr>\n",
       "    <tr>\n",
       "      <th>5</th>\n",
       "      <td>2.0</td>\n",
       "      <td>11</td>\n",
       "      <td>0</td>\n",
       "    </tr>\n",
       "    <tr>\n",
       "      <th>6</th>\n",
       "      <td>2.0</td>\n",
       "      <td>9</td>\n",
       "      <td>0</td>\n",
       "    </tr>\n",
       "    <tr>\n",
       "      <th>7</th>\n",
       "      <td>1.0</td>\n",
       "      <td>7</td>\n",
       "      <td>0</td>\n",
       "    </tr>\n",
       "    <tr>\n",
       "      <th>8</th>\n",
       "      <td>5.0</td>\n",
       "      <td>3</td>\n",
       "      <td>1</td>\n",
       "    </tr>\n",
       "    <tr>\n",
       "      <th>9</th>\n",
       "      <td>3.0</td>\n",
       "      <td>2</td>\n",
       "      <td>1</td>\n",
       "    </tr>\n",
       "    <tr>\n",
       "      <th>10</th>\n",
       "      <td>1.5</td>\n",
       "      <td>9</td>\n",
       "      <td>0</td>\n",
       "    </tr>\n",
       "    <tr>\n",
       "      <th>11</th>\n",
       "      <td>7.0</td>\n",
       "      <td>2</td>\n",
       "      <td>1</td>\n",
       "    </tr>\n",
       "    <tr>\n",
       "      <th>12</th>\n",
       "      <td>6.0</td>\n",
       "      <td>1</td>\n",
       "      <td>1</td>\n",
       "    </tr>\n",
       "    <tr>\n",
       "      <th>13</th>\n",
       "      <td>3.8</td>\n",
       "      <td>1</td>\n",
       "      <td>1</td>\n",
       "    </tr>\n",
       "    <tr>\n",
       "      <th>14</th>\n",
       "      <td>5.6</td>\n",
       "      <td>4</td>\n",
       "      <td>1</td>\n",
       "    </tr>\n",
       "    <tr>\n",
       "      <th>15</th>\n",
       "      <td>4.0</td>\n",
       "      <td>2</td>\n",
       "      <td>1</td>\n",
       "    </tr>\n",
       "    <tr>\n",
       "      <th>16</th>\n",
       "      <td>2.0</td>\n",
       "      <td>5</td>\n",
       "      <td>0</td>\n",
       "    </tr>\n",
       "  </tbody>\n",
       "</table>\n",
       "</div>"
      ],
      "text/plain": [
       "    feature1  feature2  y\n",
       "0        1.0        12  0\n",
       "1        2.0         5  0\n",
       "2        3.0         6  0\n",
       "3        3.0        10  0\n",
       "4        3.5         8  0\n",
       "5        2.0        11  0\n",
       "6        2.0         9  0\n",
       "7        1.0         7  0\n",
       "8        5.0         3  1\n",
       "9        3.0         2  1\n",
       "10       1.5         9  0\n",
       "11       7.0         2  1\n",
       "12       6.0         1  1\n",
       "13       3.8         1  1\n",
       "14       5.6         4  1\n",
       "15       4.0         2  1\n",
       "16       2.0         5  0"
      ]
     },
     "execution_count": 139,
     "metadata": {},
     "output_type": "execute_result"
    }
   ],
   "source": [
    "X_df"
   ]
  },
  {
   "cell_type": "code",
   "execution_count": 141,
   "id": "a11c6dcf-3637-46df-8040-b98640153943",
   "metadata": {},
   "outputs": [
    {
     "data": {
      "image/png": "[encoded data removed]",
      "text/plain": [
       "<Figure size 640x480 with 1 Axes>"
      ]
     },
     "metadata": {},
     "output_type": "display_data"
    }
   ],
   "source": [
    "plt.plot(X_df[X_df.y == 0]['feature1'], X_df[X_df.y == 0]['feature2'], 'go');\n",
    "plt.plot(X_df[X_df.y == 1]['feature1'], X_df[X_df.y == 1]['feature2'], 'bo');\n",
    "plt.plot([4], [2], 'ro');"
   ]
  },
  {
   "cell_type": "markdown",
   "id": "071182bb-9cc4-4f04-859a-cebfa5b58ba3",
   "metadata": {},
   "source": [
    "### As we can see above the point is predicted correctly in the green class"
   ]
  },
  {
   "cell_type": "code",
   "execution_count": null,
   "id": "9a1bb50c-fd76-4e9e-9937-90dcd0bac095",
   "metadata": {},
   "outputs": [],
   "source": []
  }
 ],
 "metadata": {
  "kernelspec": {
   "display_name": "Python 3 (ipykernel)",
   "language": "python",
   "name": "python3"
  },
  "language_info": {
   "codemirror_mode": {
    "name": "ipython",
    "version": 3
   },
   "file_extension": ".py",
   "mimetype": "text/x-python",
   "name": "python",
   "nbconvert_exporter": "python",
   "pygments_lexer": "ipython3",
   "version": "3.10.6"
  }
 },
 "nbformat": 4,
 "nbformat_minor": 5
}
