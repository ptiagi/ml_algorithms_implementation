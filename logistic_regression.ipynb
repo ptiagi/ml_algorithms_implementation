{
 "cells": [
  {
   "cell_type": "code",
   "execution_count": 50,
   "id": "6ca33707-93e8-498b-9727-49ff06c741c3",
   "metadata": {},
   "outputs": [],
   "source": [
    "import numpy as np\n",
    "\n",
    "class LogisticRegression:\n",
    "    def __init__(self, num_iters, eta):\n",
    "        self.num_iters = num_iters\n",
    "        self.eta = eta\n",
    "    \n",
    "    def log_likelihood(self, y, y_pred):\n",
    "        log_loss = np.sum(y*np.log(y_pred) + (1-y)*np.log(1-y_pred))\n",
    "        return log_loss\n",
    "    \n",
    "    def fit(self, X, y):\n",
    "        ## Initialize the weights\n",
    "        self.a = np.zeros(X.shape[1])\n",
    "        \n",
    "        ## Compute the initial loss\n",
    "        y_pred = self.predict(X)\n",
    "        prev_loss = self.log_likelihood(y, y_pred)\n",
    "\n",
    "        for step in range(self.num_iters):\n",
    "            ## Compute the gradient\n",
    "            da = np.dot(X.T, (y_pred - y))/y.size\n",
    "            \n",
    "            ## Update the initial weights based on the previous loss\n",
    "            self.a -= da*self.eta\n",
    "            ## Recompute the loss and then compare it \n",
    "            y_pred = self.predict(X)\n",
    "            current_loss = self.log_likelihood(y, y_pred)\n",
    "            \n",
    "            ## if the current loss > new loss then iterate else break and return the weights\n",
    "            if current_loss > prev_loss:\n",
    "                break\n",
    "\n",
    "            prev_loss = current_loss\n",
    "         \n",
    "        return self.a\n",
    "\n",
    "    def predict(self, X):\n",
    "        ## Return the value of Y calculated based on the weights computed using fit\n",
    "        ## ax+b\n",
    "        z = np.dot(X, self.a)\n",
    "        y_pred = 1/(1+np.exp(-z))\n",
    "        return y_pred"
   ]
  },
  {
   "cell_type": "code",
   "execution_count": 51,
   "id": "15f826fa-fdbb-437e-a306-220d50c400fc",
   "metadata": {},
   "outputs": [
    {
     "data": {
      "text/plain": [
       "array([0.50916564, 0.52082129, 0.53245431])"
      ]
     },
     "execution_count": 51,
     "metadata": {},
     "output_type": "execute_result"
    }
   ],
   "source": [
    "X = np.array([[1,2],[3,4],[5,6]])\n",
    "y = np.array([1, 0, 1])\n",
    "log_reg = LogisticRegression(100, 0.02)\n",
    "log_reg.fit(X, y)\n",
    "log_reg.predict(X)"
   ]
  },
  {
   "cell_type": "code",
   "execution_count": null,
   "id": "472b2774-58d0-4c55-89f0-fb5f65c16e8e",
   "metadata": {},
   "outputs": [],
   "source": []
  }
 ],
 "metadata": {
  "kernelspec": {
   "display_name": "Python 3 (ipykernel)",
   "language": "python",
   "name": "python3"
  },
  "language_info": {
   "codemirror_mode": {
    "name": "ipython",
    "version": 3
   },
   "file_extension": ".py",
   "mimetype": "text/x-python",
   "name": "python",
   "nbconvert_exporter": "python",
   "pygments_lexer": "ipython3",
   "version": "3.10.6"
  }
 },
 "nbformat": 4,
 "nbformat_minor": 5
}
